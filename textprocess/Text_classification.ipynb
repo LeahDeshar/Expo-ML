{
  "nbformat": 4,
  "nbformat_minor": 0,
  "metadata": {
    "colab": {
      "provenance": []
    },
    "kernelspec": {
      "name": "python3",
      "display_name": "Python 3"
    },
    "language_info": {
      "name": "python"
    }
  },
  "cells": [
    {
      "cell_type": "markdown",
      "source": [
        "# Text Classification\n",
        " 20 Newsgroups dataset provided by Scikit-learn"
      ],
      "metadata": {
        "id": "kDlt1V_C3F8i"
      }
    },
    {
      "cell_type": "code",
      "execution_count": 2,
      "metadata": {
        "id": "hN6UMA5g17Ms"
      },
      "outputs": [],
      "source": [
        "from sklearn.datasets import fetch_20newsgroups\n",
        "import pandas as pd"
      ]
    },
    {
      "cell_type": "code",
      "source": [
        "# Load the dataset\n",
        "categories = ['rec.sport.baseball', 'rec.sport.hockey', 'talk.politics.mideast', 'talk.politics.guns', 'comp.graphics', 'sci.space']\n",
        "news_data = fetch_20newsgroups(subset='all', categories=categories, remove=('headers', 'footers', 'quotes'))\n",
        "\n",
        "# # Convert to a DataFrame\n",
        "df = pd.DataFrame({'Text': news_data.data, 'Category': news_data.target})\n",
        "\n",
        "# # Map target numbers to category names\n",
        "df['Category'] = df['Category'].map(lambda x: news_data.target_names[x])\n",
        "\n",
        "print(df.head())\n"
      ],
      "metadata": {
        "colab": {
          "base_uri": "https://localhost:8080/"
        },
        "id": "FNbzkH-x3l3y",
        "outputId": "9c4c1c8d-1cbc-49b3-d7a9-0d288bef2266"
      },
      "execution_count": 9,
      "outputs": [
        {
          "output_type": "stream",
          "name": "stdout",
          "text": [
            "                                                Text            Category\n",
            "0  \\n\\n  Gerald, look at what happened to the Sta...    rec.sport.hockey\n",
            "1  \\nIs it? As far as I know, tear gas, especiall...  talk.politics.guns\n",
            "2  \\nSuch as?  Drunk drivers get back on the road...  talk.politics.guns\n",
            "3  I Love it how all of these people are \"blaming...  rec.sport.baseball\n",
            "4  \\n\\nAs an Amateur Radio operator (VHF 2metres)...           sci.space\n"
          ]
        }
      ]
    },
    {
      "cell_type": "markdown",
      "source": [
        "# Preprocess the Data"
      ],
      "metadata": {
        "id": "oaUtzE783FiI"
      }
    },
    {
      "cell_type": "code",
      "source": [
        "import nltk\n",
        "from nltk.corpus import stopwords\n",
        "import string\n",
        "\n",
        "\n",
        "nltk.download('stopwords')\n",
        "\n",
        "\n",
        "\n",
        "# Preprocessing function\n",
        "def preprocess_text(text):\n",
        "    stop_words = set(stopwords.words('english'))\n",
        "    # Remove punctuation\n",
        "    text = ''.join([char for char in text if char not in string.punctuation])\n",
        "    # Lowercase\n",
        "    text = text.lower()\n",
        "    # Tokenize and remove stopwords\n",
        "    tokens = text.split()\n",
        "    tokens = [word for word in tokens if word not in stop_words]\n",
        "    return ' '.join(tokens)\n",
        "\n",
        "# Apply preprocessing\n",
        "df['Cleaned_Text'] = df['Text'].apply(lambda x: preprocess_text(str(x)))\n",
        "print(df[['Text', 'Cleaned_Text']].head())\n"
      ],
      "metadata": {
        "colab": {
          "base_uri": "https://localhost:8080/"
        },
        "id": "JHONTsct4fJi",
        "outputId": "4d4e98e6-2cfe-462e-aca5-899d5a205c83"
      },
      "execution_count": 10,
      "outputs": [
        {
          "output_type": "stream",
          "name": "stderr",
          "text": [
            "[nltk_data] Downloading package stopwords to /root/nltk_data...\n",
            "[nltk_data]   Unzipping corpora/stopwords.zip.\n"
          ]
        },
        {
          "output_type": "stream",
          "name": "stdout",
          "text": [
            "                                                Text  \\\n",
            "0  \\n\\n  Gerald, look at what happened to the Sta...   \n",
            "1  \\nIs it? As far as I know, tear gas, especiall...   \n",
            "2  \\nSuch as?  Drunk drivers get back on the road...   \n",
            "3  I Love it how all of these people are \"blaming...   \n",
            "4  \\n\\nAs an Amateur Radio operator (VHF 2metres)...   \n",
            "\n",
            "                                        Cleaned_Text  \n",
            "0  gerald look happened stars dallas gerald alber...  \n",
            "1  far know tear gas especially large concentrati...  \n",
            "2  drunk drivers get back road time kill seems dr...  \n",
            "3  love people blaming phillies success weak divi...  \n",
            "4  amateur radio operator vhf 2metres like keep g...  \n"
          ]
        }
      ]
    },
    {
      "cell_type": "markdown",
      "source": [
        "# Split Data into Train and Test Sets"
      ],
      "metadata": {
        "id": "i0kAiZkF46Cy"
      }
    },
    {
      "cell_type": "code",
      "source": [
        "from sklearn.model_selection import train_test_split\n",
        "\n",
        "# Split into training and testing sets\n",
        "X_train, X_test, y_train, y_test = train_test_split(df['Cleaned_Text'], df['Category'], test_size=0.2, random_state=42)\n",
        "\n",
        "print(f\"Training size: {len(X_train)}, Test size: {len(X_test)}\")"
      ],
      "metadata": {
        "colab": {
          "base_uri": "https://localhost:8080/"
        },
        "id": "aQhs2VoN4trb",
        "outputId": "74fc5b43-6fbd-4feb-9f22-64a92ed10106"
      },
      "execution_count": 11,
      "outputs": [
        {
          "output_type": "stream",
          "name": "stdout",
          "text": [
            "Training size: 4642, Test size: 1161\n"
          ]
        }
      ]
    },
    {
      "cell_type": "code",
      "source": [
        "from sklearn.feature_extraction.text import TfidfVectorizer\n",
        "\n",
        "# Initialize TF-IDF Vectorizer\n",
        "vectorizer = TfidfVectorizer(max_features=5000)\n",
        "\n",
        "# Transform the text\n",
        "X_train_tfidf = vectorizer.fit_transform(X_train)\n",
        "X_test_tfidf = vectorizer.transform(X_test)\n",
        "\n",
        "print(f\"TF-IDF matrix shape: {X_train_tfidf.shape}\")"
      ],
      "metadata": {
        "colab": {
          "base_uri": "https://localhost:8080/"
        },
        "id": "JZS1rZx64-gr",
        "outputId": "87ea5f5c-ca8e-4371-b05b-1b96d8b2d6f7"
      },
      "execution_count": 12,
      "outputs": [
        {
          "output_type": "stream",
          "name": "stdout",
          "text": [
            "TF-IDF matrix shape: (4642, 5000)\n"
          ]
        }
      ]
    },
    {
      "cell_type": "code",
      "source": [
        "from sklearn.linear_model import LogisticRegression\n",
        "\n",
        "# Initialize and train the classifier\n",
        "classifier = LogisticRegression(max_iter=1000)\n",
        "classifier.fit(X_train_tfidf, y_train)\n",
        "\n",
        "# Make predictions\n",
        "y_pred = classifier.predict(X_test_tfidf)"
      ],
      "metadata": {
        "id": "Q5K8iNsW5Skl"
      },
      "execution_count": 13,
      "outputs": []
    },
    {
      "cell_type": "code",
      "source": [
        "from sklearn.metrics import classification_report, confusion_matrix\n",
        "\n",
        "# Classification report\n",
        "print(\"Classification Report:\")\n",
        "print(classification_report(y_test, y_pred))\n",
        "\n",
        "# Confusion matrix\n",
        "import matplotlib.pyplot as plt\n",
        "import seaborn as sns\n",
        "\n",
        "cm = confusion_matrix(y_test, y_pred)\n",
        "sns.heatmap(cm, annot=True, fmt='d', cmap='Blues', xticklabels=categories, yticklabels=categories)\n",
        "plt.xlabel('Predicted')\n",
        "plt.ylabel('Actual')\n",
        "plt.title('Confusion Matrix')\n",
        "plt.show()"
      ],
      "metadata": {
        "colab": {
          "base_uri": "https://localhost:8080/",
          "height": 855
        },
        "id": "f0Jcfxr05e-Z",
        "outputId": "b304a666-40f7-43ac-9a12-b01f1d9ab6fc"
      },
      "execution_count": 14,
      "outputs": [
        {
          "output_type": "stream",
          "name": "stdout",
          "text": [
            "Classification Report:\n",
            "                       precision    recall  f1-score   support\n",
            "\n",
            "        comp.graphics       0.87      0.91      0.89       179\n",
            "   rec.sport.baseball       0.87      0.83      0.85       214\n",
            "     rec.sport.hockey       0.90      0.86      0.88       199\n",
            "            sci.space       0.79      0.86      0.82       217\n",
            "   talk.politics.guns       0.88      0.89      0.89       161\n",
            "talk.politics.mideast       0.90      0.85      0.88       191\n",
            "\n",
            "             accuracy                           0.87      1161\n",
            "            macro avg       0.87      0.87      0.87      1161\n",
            "         weighted avg       0.87      0.87      0.87      1161\n",
            "\n"
          ]
        },
        {
          "output_type": "display_data",
          "data": {
            "text/plain": [
              "<Figure size 640x480 with 2 Axes>"
            ],
            "image/png": "[encoded data removed]"
          },
          "metadata": {}
        }
      ]
    },
    {
      "cell_type": "markdown",
      "source": [
        "# TEST"
      ],
      "metadata": {
        "id": "s2AOeHK67cZ7"
      }
    },
    {
      "cell_type": "code",
      "source": [
        "# Test Cases\n",
        "test_sentences = [\n",
        "    \"NASA has discovered a new exoplanet in a distant galaxy.\",\n",
        "    \"The government has passed a new gun control policy amidst debates.\",\n",
        "    \"The graphics in the new video game are truly breathtaking.\",\n",
        "    \"The game match between the Yankees and the Red Sox was intense.\",\n",
        "    \"Discussions about the political situation in the Middle East are ongoing.\",\n",
        "    \"Hockey players are training hard for the upcoming championship.\",\n",
        "    \"The company has launched a new software for 3D rendering.\",\n",
        "    \"Astronomers have made significant progress in space exploration.\",\n",
        "    \"The protests against gun laws have gained widespread attention.\",\n",
        "    \"The hockey match was canceled due to bad weather.\",\n",
        "        \"The game was canceled due to bad weather.\",\n",
        "]\n",
        "\n",
        "# Transform and Predict\n",
        "test_sentences_tfidf = vectorizer.transform(test_sentences)\n",
        "predicted_categories = classifier.predict(test_sentences_tfidf)\n",
        "\n",
        "# Print Predictions\n",
        "for sentence, category in zip(test_sentences, predicted_categories):\n",
        "    print(f\"Sentence: {sentence}\")\n",
        "    cat = category.split('.')[-1]\n",
        "    print(f\"Predicted Category: {cat.capitalize()}\\n\")"
      ],
      "metadata": {
        "colab": {
          "base_uri": "https://localhost:8080/"
        },
        "id": "2gGZupCn5hjA",
        "outputId": "f27e2b70-7c67-4de0-a5ee-8d07d0abf6ae"
      },
      "execution_count": 19,
      "outputs": [
        {
          "output_type": "stream",
          "name": "stdout",
          "text": [
            "Sentence: NASA has discovered a new exoplanet in a distant galaxy.\n",
            "Predicted Category: Space\n",
            "\n",
            "Sentence: The government has passed a new gun control policy amidst debates.\n",
            "Predicted Category: Guns\n",
            "\n",
            "Sentence: The graphics in the new video game are truly breathtaking.\n",
            "Predicted Category: Graphics\n",
            "\n",
            "Sentence: The game match between the Yankees and the Red Sox was intense.\n",
            "Predicted Category: Baseball\n",
            "\n",
            "Sentence: Discussions about the political situation in the Middle East are ongoing.\n",
            "Predicted Category: Mideast\n",
            "\n",
            "Sentence: Hockey players are training hard for the upcoming championship.\n",
            "Predicted Category: Hockey\n",
            "\n",
            "Sentence: The company has launched a new software for 3D rendering.\n",
            "Predicted Category: Graphics\n",
            "\n",
            "Sentence: Astronomers have made significant progress in space exploration.\n",
            "Predicted Category: Space\n",
            "\n",
            "Sentence: The protests against gun laws have gained widespread attention.\n",
            "Predicted Category: Guns\n",
            "\n",
            "Sentence: The hockey match was canceled due to bad weather.\n",
            "Predicted Category: Hockey\n",
            "\n",
            "Sentence: The game was canceled due to bad weather.\n",
            "Predicted Category: Hockey\n",
            "\n"
          ]
        }
      ]
    },
    {
      "cell_type": "code",
      "source": [],
      "metadata": {
        "id": "aB3zeefq7TYS"
      },
      "execution_count": null,
      "outputs": []
    }
  ]
}