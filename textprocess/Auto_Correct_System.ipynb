{
  "nbformat": 4,
  "nbformat_minor": 0,
  "metadata": {
    "colab": {
      "provenance": []
    },
    "kernelspec": {
      "name": "python3",
      "display_name": "Python 3"
    },
    "language_info": {
      "name": "python"
    }
  },
  "cells": [
    {
      "cell_type": "code",
      "execution_count": 2,
      "metadata": {
        "colab": {
          "base_uri": "https://localhost:8080/"
        },
        "id": "dOz-Np-pArBO",
        "outputId": "488b60f3-d610-4b19-8dfd-39ca547d0807"
      },
      "outputs": [
        {
          "output_type": "stream",
          "name": "stderr",
          "text": [
            "[nltk_data] Downloading package words to /root/nltk_data...\n",
            "[nltk_data]   Package words is already up-to-date!\n"
          ]
        },
        {
          "output_type": "stream",
          "name": "stdout",
          "text": [
            "Suggestions for 'frekquency': ['frequency', 'frequence']\n"
          ]
        }
      ],
      "source": [
        "import nltk\n",
        "from nltk.corpus import words\n",
        "from collections import Counter\n",
        "\n",
        "nltk.download(\"words\")\n",
        "dictionary = set(words.words())\n",
        "\n",
        "# Step 1: Edit Distance Function\n",
        "def edit_distance(word1, word2):\n",
        "    m, n = len(word1), len(word2)\n",
        "    dp = [[0] * (n + 1) for _ in range(m + 1)]\n",
        "\n",
        "    for i in range(m + 1):\n",
        "        for j in range(n + 1):\n",
        "            if i == 0:\n",
        "                dp[i][j] = j\n",
        "            elif j == 0:\n",
        "                dp[i][j] = i\n",
        "            elif word1[i - 1] == word2[j - 1]:\n",
        "                dp[i][j] = dp[i - 1][j - 1]\n",
        "            else:\n",
        "                dp[i][j] = 1 + min(dp[i - 1][j], dp[i][j - 1], dp[i - 1][j - 1])\n",
        "\n",
        "    return dp[m][n]\n",
        "\n",
        "# Step 2: Suggest Function\n",
        "def suggest(word, dictionary, max_distance=2):\n",
        "    suggestions = []\n",
        "    for dict_word in dictionary:\n",
        "        distance = edit_distance(word, dict_word)\n",
        "        if distance <= max_distance:\n",
        "            suggestions.append((dict_word, distance))\n",
        "    return sorted(suggestions, key=lambda x: x[1])\n",
        "\n",
        "misspelled_word = \"frekquency\"\n",
        "corrections = suggest(misspelled_word, dictionary)\n",
        "print(f\"Suggestions for '{misspelled_word}': {[word for word, _ in corrections[:5]]}\")\n"
      ]
    },
    {
      "cell_type": "code",
      "source": [],
      "metadata": {
        "id": "LySbgyr1A2fb"
      },
      "execution_count": null,
      "outputs": []
    }
  ]
}