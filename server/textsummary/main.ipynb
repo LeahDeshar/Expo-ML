{
 "cells": [
  {
   "cell_type": "markdown",
   "metadata": {},
   "source": [
    "Text Summarization"
   ]
  },
  {
   "cell_type": "code",
   "execution_count": 1,
   "metadata": {},
   "outputs": [],
   "source": [
    "\n",
    "text = \"\"\"The art of bonsai, a practice that dates back over a thousand years, is a unique form of horticulture that combines meticulous care with artistic expression. Originating in China and later refined in Japan, bonsai involves growing small trees in containers, carefully shaping them to mimic the appearance of full-sized trees in nature. This process requires not only regular pruning and wiring of the branches but also an understanding of the tree's growth patterns and needs. Each bonsai tree tells a story, reflecting the seasons and the passage of time, making it a living piece of art that evolves with its caretaker. The patience and dedication required to cultivate bonsai have made it a beloved and meditative hobby for enthusiasts around the world.\"\"\""
   ]
  },
  {
   "cell_type": "code",
   "execution_count": 2,
   "metadata": {},
   "outputs": [
    {
     "data": {
      "text/plain": [
       "756"
      ]
     },
     "execution_count": 2,
     "metadata": {},
     "output_type": "execute_result"
    }
   ],
   "source": [
    "len(text)"
   ]
  },
  {
   "cell_type": "markdown",
   "metadata": {},
   "source": [
    "Importing the libaries and dataset"
   ]
  },
  {
   "cell_type": "code",
   "execution_count": 3,
   "metadata": {},
   "outputs": [],
   "source": [
    "import spacy\n",
    "from spacy.lang.en.stop_words import STOP_WORDS\n",
    "from string import punctuation\n"
   ]
  },
  {
   "cell_type": "code",
   "execution_count": 4,
   "metadata": {},
   "outputs": [],
   "source": [
    "nlp = spacy.load(\"en_core_web_sm\")"
   ]
  },
  {
   "cell_type": "code",
   "execution_count": 5,
   "metadata": {},
   "outputs": [],
   "source": [
    "doc = nlp(text)"
   ]
  },
  {
   "cell_type": "code",
   "execution_count": 6,
   "metadata": {},
   "outputs": [
    {
     "data": {
      "text/plain": [
       "['The',\n",
       " 'art',\n",
       " 'of',\n",
       " 'bonsai',\n",
       " ',',\n",
       " 'a',\n",
       " 'practice',\n",
       " 'that',\n",
       " 'dates',\n",
       " 'back',\n",
       " 'over',\n",
       " 'a',\n",
       " 'thousand',\n",
       " 'years',\n",
       " ',',\n",
       " 'is',\n",
       " 'a',\n",
       " 'unique',\n",
       " 'form',\n",
       " 'of',\n",
       " 'horticulture',\n",
       " 'that',\n",
       " 'combines',\n",
       " 'meticulous',\n",
       " 'care',\n",
       " 'with',\n",
       " 'artistic',\n",
       " 'expression',\n",
       " '.',\n",
       " 'Originating',\n",
       " 'in',\n",
       " 'China',\n",
       " 'and',\n",
       " 'later',\n",
       " 'refined',\n",
       " 'in',\n",
       " 'Japan',\n",
       " ',',\n",
       " 'bonsai',\n",
       " 'involves',\n",
       " 'growing',\n",
       " 'small',\n",
       " 'trees',\n",
       " 'in',\n",
       " 'containers',\n",
       " ',',\n",
       " 'carefully',\n",
       " 'shaping',\n",
       " 'them',\n",
       " 'to',\n",
       " 'mimic',\n",
       " 'the',\n",
       " 'appearance',\n",
       " 'of',\n",
       " 'full',\n",
       " '-',\n",
       " 'sized',\n",
       " 'trees',\n",
       " 'in',\n",
       " 'nature',\n",
       " '.',\n",
       " 'This',\n",
       " 'process',\n",
       " 'requires',\n",
       " 'not',\n",
       " 'only',\n",
       " 'regular',\n",
       " 'pruning',\n",
       " 'and',\n",
       " 'wiring',\n",
       " 'of',\n",
       " 'the',\n",
       " 'branches',\n",
       " 'but',\n",
       " 'also',\n",
       " 'an',\n",
       " 'understanding',\n",
       " 'of',\n",
       " 'the',\n",
       " 'tree',\n",
       " \"'s\",\n",
       " 'growth',\n",
       " 'patterns',\n",
       " 'and',\n",
       " 'needs',\n",
       " '.',\n",
       " 'Each',\n",
       " 'bonsai',\n",
       " 'tree',\n",
       " 'tells',\n",
       " 'a',\n",
       " 'story',\n",
       " ',',\n",
       " 'reflecting',\n",
       " 'the',\n",
       " 'seasons',\n",
       " 'and',\n",
       " 'the',\n",
       " 'passage',\n",
       " 'of',\n",
       " 'time',\n",
       " ',',\n",
       " 'making',\n",
       " 'it',\n",
       " 'a',\n",
       " 'living',\n",
       " 'piece',\n",
       " 'of',\n",
       " 'art',\n",
       " 'that',\n",
       " 'evolves',\n",
       " 'with',\n",
       " 'its',\n",
       " 'caretaker',\n",
       " '.',\n",
       " 'The',\n",
       " 'patience',\n",
       " 'and',\n",
       " 'dedication',\n",
       " 'required',\n",
       " 'to',\n",
       " 'cultivate',\n",
       " 'bonsai',\n",
       " 'have',\n",
       " 'made',\n",
       " 'it',\n",
       " 'a',\n",
       " 'beloved',\n",
       " 'and',\n",
       " 'meditative',\n",
       " 'hobby',\n",
       " 'for',\n",
       " 'enthusiasts',\n",
       " 'around',\n",
       " 'the',\n",
       " 'world',\n",
       " '.']"
      ]
     },
     "execution_count": 6,
     "metadata": {},
     "output_type": "execute_result"
    }
   ],
   "source": [
    "tokens = [token.text for token in doc]\n",
    "tokens"
   ]
  },
  {
   "cell_type": "code",
   "execution_count": 7,
   "metadata": {},
   "outputs": [
    {
     "data": {
      "text/plain": [
       "'!\"#$%&\\'()*+,-./:;<=>?@[\\\\]^_`{|}~\\n'"
      ]
     },
     "execution_count": 7,
     "metadata": {},
     "output_type": "execute_result"
    }
   ],
   "source": [
    "punctuation = punctuation + '\\n'\n",
    "punctuation"
   ]
  },
  {
   "cell_type": "markdown",
   "metadata": {},
   "source": [
    "Text Cleaning"
   ]
  },
  {
   "cell_type": "code",
   "execution_count": 8,
   "metadata": {},
   "outputs": [],
   "source": [
    "word_freq = {}\n",
    "\n",
    "stop_words = list(STOP_WORDS)\n",
    "\n",
    "\n",
    "for word in doc:\n",
    "    if word.text.lower() not in stop_words:\n",
    "        if word.text.lower() not in punctuation:\n",
    "          if word.text not in word_freq.keys():\n",
    "            word_freq[word.text] = 1\n",
    "          else:\n",
    "            \n",
    "            word_freq[word.text] += 1\n",
    "            \n",
    "          "
   ]
  },
  {
   "cell_type": "code",
   "execution_count": 9,
   "metadata": {},
   "outputs": [
    {
     "data": {
      "text/plain": [
       "{'art': 2,\n",
       " 'bonsai': 4,\n",
       " 'practice': 1,\n",
       " 'dates': 1,\n",
       " 'thousand': 1,\n",
       " 'years': 1,\n",
       " 'unique': 1,\n",
       " 'form': 1,\n",
       " 'horticulture': 1,\n",
       " 'combines': 1,\n",
       " 'meticulous': 1,\n",
       " 'care': 1,\n",
       " 'artistic': 1,\n",
       " 'expression': 1,\n",
       " 'Originating': 1,\n",
       " 'China': 1,\n",
       " 'later': 1,\n",
       " 'refined': 1,\n",
       " 'Japan': 1,\n",
       " 'involves': 1,\n",
       " 'growing': 1,\n",
       " 'small': 1,\n",
       " 'trees': 2,\n",
       " 'containers': 1,\n",
       " 'carefully': 1,\n",
       " 'shaping': 1,\n",
       " 'mimic': 1,\n",
       " 'appearance': 1,\n",
       " 'sized': 1,\n",
       " 'nature': 1,\n",
       " 'process': 1,\n",
       " 'requires': 1,\n",
       " 'regular': 1,\n",
       " 'pruning': 1,\n",
       " 'wiring': 1,\n",
       " 'branches': 1,\n",
       " 'understanding': 1,\n",
       " 'tree': 2,\n",
       " 'growth': 1,\n",
       " 'patterns': 1,\n",
       " 'needs': 1,\n",
       " 'tells': 1,\n",
       " 'story': 1,\n",
       " 'reflecting': 1,\n",
       " 'seasons': 1,\n",
       " 'passage': 1,\n",
       " 'time': 1,\n",
       " 'making': 1,\n",
       " 'living': 1,\n",
       " 'piece': 1,\n",
       " 'evolves': 1,\n",
       " 'caretaker': 1,\n",
       " 'patience': 1,\n",
       " 'dedication': 1,\n",
       " 'required': 1,\n",
       " 'cultivate': 1,\n",
       " 'beloved': 1,\n",
       " 'meditative': 1,\n",
       " 'hobby': 1,\n",
       " 'enthusiasts': 1,\n",
       " 'world': 1}"
      ]
     },
     "execution_count": 9,
     "metadata": {},
     "output_type": "execute_result"
    }
   ],
   "source": [
    "word_freq"
   ]
  },
  {
   "cell_type": "code",
   "execution_count": 10,
   "metadata": {},
   "outputs": [
    {
     "data": {
      "text/plain": [
       "4"
      ]
     },
     "execution_count": 10,
     "metadata": {},
     "output_type": "execute_result"
    }
   ],
   "source": [
    "max_freq = max(word_freq.values())\n",
    "max_freq"
   ]
  },
  {
   "cell_type": "code",
   "execution_count": 11,
   "metadata": {},
   "outputs": [],
   "source": [
    "for word in word_freq.keys():\n",
    "    word_freq[word] = word_freq[word]/max_freq"
   ]
  },
  {
   "cell_type": "code",
   "execution_count": 12,
   "metadata": {},
   "outputs": [
    {
     "name": "stdout",
     "output_type": "stream",
     "text": [
      "{'art': 0.5, 'bonsai': 1.0, 'practice': 0.25, 'dates': 0.25, 'thousand': 0.25, 'years': 0.25, 'unique': 0.25, 'form': 0.25, 'horticulture': 0.25, 'combines': 0.25, 'meticulous': 0.25, 'care': 0.25, 'artistic': 0.25, 'expression': 0.25, 'Originating': 0.25, 'China': 0.25, 'later': 0.25, 'refined': 0.25, 'Japan': 0.25, 'involves': 0.25, 'growing': 0.25, 'small': 0.25, 'trees': 0.5, 'containers': 0.25, 'carefully': 0.25, 'shaping': 0.25, 'mimic': 0.25, 'appearance': 0.25, 'sized': 0.25, 'nature': 0.25, 'process': 0.25, 'requires': 0.25, 'regular': 0.25, 'pruning': 0.25, 'wiring': 0.25, 'branches': 0.25, 'understanding': 0.25, 'tree': 0.5, 'growth': 0.25, 'patterns': 0.25, 'needs': 0.25, 'tells': 0.25, 'story': 0.25, 'reflecting': 0.25, 'seasons': 0.25, 'passage': 0.25, 'time': 0.25, 'making': 0.25, 'living': 0.25, 'piece': 0.25, 'evolves': 0.25, 'caretaker': 0.25, 'patience': 0.25, 'dedication': 0.25, 'required': 0.25, 'cultivate': 0.25, 'beloved': 0.25, 'meditative': 0.25, 'hobby': 0.25, 'enthusiasts': 0.25, 'world': 0.25}\n"
     ]
    }
   ],
   "source": [
    "print(word_freq)"
   ]
  },
  {
   "cell_type": "markdown",
   "metadata": {},
   "source": [
    "Sentence tokenization"
   ]
  },
  {
   "cell_type": "code",
   "execution_count": 13,
   "metadata": {},
   "outputs": [
    {
     "name": "stdout",
     "output_type": "stream",
     "text": [
      "[The art of bonsai, a practice that dates back over a thousand years, is a unique form of horticulture that combines meticulous care with artistic expression., Originating in China and later refined in Japan, bonsai involves growing small trees in containers, carefully shaping them to mimic the appearance of full-sized trees in nature., This process requires not only regular pruning and wiring of the branches but also an understanding of the tree's growth patterns and needs., Each bonsai tree tells a story, reflecting the seasons and the passage of time, making it a living piece of art that evolves with its caretaker., The patience and dedication required to cultivate bonsai have made it a beloved and meditative hobby for enthusiasts around the world.]\n"
     ]
    }
   ],
   "source": [
    "sent_token = [sent for sent in doc.sents]\n",
    "print(sent_token)"
   ]
  },
  {
   "cell_type": "code",
   "execution_count": 14,
   "metadata": {},
   "outputs": [],
   "source": [
    "sent_score = {}"
   ]
  },
  {
   "cell_type": "code",
   "execution_count": 15,
   "metadata": {},
   "outputs": [],
   "source": [
    "for sent in sent_token:\n",
    "    for word in sent:\n",
    "        if word.text.lower() in word_freq.keys():\n",
    "            if sent not in sent_score.keys():\n",
    "                sent_score[sent] = word_freq[word.text.lower()]\n",
    "            else:\n",
    "                sent_score[sent] += word_freq[word.text.lower()]"
   ]
  },
  {
   "cell_type": "code",
   "execution_count": 16,
   "metadata": {},
   "outputs": [
    {
     "data": {
      "text/plain": [
       "{The art of bonsai, a practice that dates back over a thousand years, is a unique form of horticulture that combines meticulous care with artistic expression.: 4.5,\n",
       " Originating in China and later refined in Japan, bonsai involves growing small trees in containers, carefully shaping them to mimic the appearance of full-sized trees in nature.: 5.0,\n",
       " This process requires not only regular pruning and wiring of the branches but also an understanding of the tree's growth patterns and needs.: 3.0,\n",
       " Each bonsai tree tells a story, reflecting the seasons and the passage of time, making it a living piece of art that evolves with its caretaker.: 4.75,\n",
       " The patience and dedication required to cultivate bonsai have made it a beloved and meditative hobby for enthusiasts around the world.: 3.25}"
      ]
     },
     "execution_count": 16,
     "metadata": {},
     "output_type": "execute_result"
    }
   ],
   "source": [
    "sent_score"
   ]
  },
  {
   "cell_type": "markdown",
   "metadata": {},
   "source": [
    "select 30% sentences with maximum score"
   ]
  },
  {
   "cell_type": "code",
   "execution_count": 17,
   "metadata": {},
   "outputs": [],
   "source": [
    "from heapq import nlargest"
   ]
  },
  {
   "cell_type": "code",
   "execution_count": 18,
   "metadata": {},
   "outputs": [],
   "source": [
    "summary_length = int(len(sent_token) * 0.3)"
   ]
  },
  {
   "cell_type": "markdown",
   "metadata": {},
   "source": [
    "Getting the summary"
   ]
  },
  {
   "cell_type": "code",
   "execution_count": 19,
   "metadata": {},
   "outputs": [],
   "source": [
    "summary_sentences = nlargest(summary_length, sent_score, key=sent_score.get)"
   ]
  },
  {
   "cell_type": "code",
   "execution_count": 20,
   "metadata": {},
   "outputs": [],
   "source": [
    "summary = ' '.join([sent.text for sent in summary_sentences])\n"
   ]
  },
  {
   "cell_type": "code",
   "execution_count": 21,
   "metadata": {},
   "outputs": [
    {
     "name": "stdout",
     "output_type": "stream",
     "text": [
      "Summary:\n",
      " Originating in China and later refined in Japan, bonsai involves growing small trees in containers, carefully shaping them to mimic the appearance of full-sized trees in nature.\n",
      "Original text length: 756\n",
      "Summary text length: 177\n"
     ]
    }
   ],
   "source": [
    "\n",
    "# Print the summary\n",
    "print(\"Summary:\\n\", summary)\n",
    "\n",
    "# Print the lengths of the original and summarized texts\n",
    "print(\"Original text length:\", len(text))\n",
    "print(\"Summary text length:\", len(summary))"
   ]
  },
  {
   "cell_type": "code",
   "execution_count": null,
   "metadata": {},
   "outputs": [],
   "source": []
  },
  {
   "cell_type": "code",
   "execution_count": null,
   "metadata": {},
   "outputs": [],
   "source": []
  }
 ],
 "metadata": {
  "kernelspec": {
   "display_name": "Python 3",
   "language": "python",
   "name": "python3"
  },
  "language_info": {
   "codemirror_mode": {
    "name": "ipython",
    "version": 3
   },
   "file_extension": ".py",
   "mimetype": "text/x-python",
   "name": "python",
   "nbconvert_exporter": "python",
   "pygments_lexer": "ipython3",
   "version": "3.11.4"
  }
 },
 "nbformat": 4,
 "nbformat_minor": 2
}
