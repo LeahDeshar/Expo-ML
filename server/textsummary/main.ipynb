{
 "cells": [
  {
   "cell_type": "markdown",
   "metadata": {},
   "source": [
    "Text Summarization"
   ]
  },
  {
   "cell_type": "code",
   "execution_count": 68,
   "metadata": {},
   "outputs": [],
   "source": [
    "\n",
    "text = \"\"\"The intricate dance of ecosystems is a testament to the delicate balance of nature. Within every forest, ocean, and desert, myriad species interact in ways that sustain and support each other, forming a complex web of life. Predators and prey, plants and pollinators, and countless other relationships create an environment where each organism has a role to play. This interdependence ensures the stability and resilience of ecosystems, allowing them to adapt to changes and recover from disturbances. However, human activities such as deforestation, pollution, and climate change threaten this balance, highlighting the urgent need for conservation efforts to protect the natural world and its intricate dynamics. Understanding and preserving these ecosystems is crucial not only for the survival of countless species but also for the well-being of humanity, which relies on the services they provide, from clean air and water to fertile soil and climate regulation.\"\"\""
   ]
  },
  {
   "cell_type": "code",
   "execution_count": 69,
   "metadata": {},
   "outputs": [
    {
     "data": {
      "text/plain": [
       "967"
      ]
     },
     "execution_count": 69,
     "metadata": {},
     "output_type": "execute_result"
    }
   ],
   "source": [
    "len(text)"
   ]
  },
  {
   "cell_type": "markdown",
   "metadata": {},
   "source": [
    "Importing the libaries and dataset"
   ]
  },
  {
   "cell_type": "code",
   "execution_count": 70,
   "metadata": {},
   "outputs": [],
   "source": [
    "import spacy\n",
    "from spacy.lang.en.stop_words import STOP_WORDS\n",
    "from string import punctuation\n"
   ]
  },
  {
   "cell_type": "code",
   "execution_count": 71,
   "metadata": {},
   "outputs": [],
   "source": [
    "nlp = spacy.load(\"en_core_web_sm\")"
   ]
  },
  {
   "cell_type": "code",
   "execution_count": 72,
   "metadata": {},
   "outputs": [],
   "source": [
    "doc = nlp(text)"
   ]
  },
  {
   "cell_type": "code",
   "execution_count": 73,
   "metadata": {},
   "outputs": [
    {
     "data": {
      "text/plain": [
       "['The',\n",
       " 'intricate',\n",
       " 'dance',\n",
       " 'of',\n",
       " 'ecosystems',\n",
       " 'is',\n",
       " 'a',\n",
       " 'testament',\n",
       " 'to',\n",
       " 'the',\n",
       " 'delicate',\n",
       " 'balance',\n",
       " 'of',\n",
       " 'nature',\n",
       " '.',\n",
       " 'Within',\n",
       " 'every',\n",
       " 'forest',\n",
       " ',',\n",
       " 'ocean',\n",
       " ',',\n",
       " 'and',\n",
       " 'desert',\n",
       " ',',\n",
       " 'myriad',\n",
       " 'species',\n",
       " 'interact',\n",
       " 'in',\n",
       " 'ways',\n",
       " 'that',\n",
       " 'sustain',\n",
       " 'and',\n",
       " 'support',\n",
       " 'each',\n",
       " 'other',\n",
       " ',',\n",
       " 'forming',\n",
       " 'a',\n",
       " 'complex',\n",
       " 'web',\n",
       " 'of',\n",
       " 'life',\n",
       " '.',\n",
       " 'Predators',\n",
       " 'and',\n",
       " 'prey',\n",
       " ',',\n",
       " 'plants',\n",
       " 'and',\n",
       " 'pollinators',\n",
       " ',',\n",
       " 'and',\n",
       " 'countless',\n",
       " 'other',\n",
       " 'relationships',\n",
       " 'create',\n",
       " 'an',\n",
       " 'environment',\n",
       " 'where',\n",
       " 'each',\n",
       " 'organism',\n",
       " 'has',\n",
       " 'a',\n",
       " 'role',\n",
       " 'to',\n",
       " 'play',\n",
       " '.',\n",
       " 'This',\n",
       " 'interdependence',\n",
       " 'ensures',\n",
       " 'the',\n",
       " 'stability',\n",
       " 'and',\n",
       " 'resilience',\n",
       " 'of',\n",
       " 'ecosystems',\n",
       " ',',\n",
       " 'allowing',\n",
       " 'them',\n",
       " 'to',\n",
       " 'adapt',\n",
       " 'to',\n",
       " 'changes',\n",
       " 'and',\n",
       " 'recover',\n",
       " 'from',\n",
       " 'disturbances',\n",
       " '.',\n",
       " 'However',\n",
       " ',',\n",
       " 'human',\n",
       " 'activities',\n",
       " 'such',\n",
       " 'as',\n",
       " 'deforestation',\n",
       " ',',\n",
       " 'pollution',\n",
       " ',',\n",
       " 'and',\n",
       " 'climate',\n",
       " 'change',\n",
       " 'threaten',\n",
       " 'this',\n",
       " 'balance',\n",
       " ',',\n",
       " 'highlighting',\n",
       " 'the',\n",
       " 'urgent',\n",
       " 'need',\n",
       " 'for',\n",
       " 'conservation',\n",
       " 'efforts',\n",
       " 'to',\n",
       " 'protect',\n",
       " 'the',\n",
       " 'natural',\n",
       " 'world',\n",
       " 'and',\n",
       " 'its',\n",
       " 'intricate',\n",
       " 'dynamics',\n",
       " '.',\n",
       " 'Understanding',\n",
       " 'and',\n",
       " 'preserving',\n",
       " 'these',\n",
       " 'ecosystems',\n",
       " 'is',\n",
       " 'crucial',\n",
       " 'not',\n",
       " 'only',\n",
       " 'for',\n",
       " 'the',\n",
       " 'survival',\n",
       " 'of',\n",
       " 'countless',\n",
       " 'species',\n",
       " 'but',\n",
       " 'also',\n",
       " 'for',\n",
       " 'the',\n",
       " 'well',\n",
       " '-',\n",
       " 'being',\n",
       " 'of',\n",
       " 'humanity',\n",
       " ',',\n",
       " 'which',\n",
       " 'relies',\n",
       " 'on',\n",
       " 'the',\n",
       " 'services',\n",
       " 'they',\n",
       " 'provide',\n",
       " ',',\n",
       " 'from',\n",
       " 'clean',\n",
       " 'air',\n",
       " 'and',\n",
       " 'water',\n",
       " 'to',\n",
       " 'fertile',\n",
       " 'soil',\n",
       " 'and',\n",
       " 'climate',\n",
       " 'regulation',\n",
       " '.']"
      ]
     },
     "execution_count": 73,
     "metadata": {},
     "output_type": "execute_result"
    }
   ],
   "source": [
    "tokens = [token.text for token in doc]\n",
    "tokens"
   ]
  },
  {
   "cell_type": "code",
   "execution_count": 74,
   "metadata": {},
   "outputs": [
    {
     "data": {
      "text/plain": [
       "'!\"#$%&\\'()*+,-./:;<=>?@[\\\\]^_`{|}~\\n'"
      ]
     },
     "execution_count": 74,
     "metadata": {},
     "output_type": "execute_result"
    }
   ],
   "source": [
    "punctuation = punctuation + '\\n'\n",
    "punctuation"
   ]
  },
  {
   "cell_type": "markdown",
   "metadata": {},
   "source": [
    "Text Cleaning"
   ]
  },
  {
   "cell_type": "code",
   "execution_count": 75,
   "metadata": {},
   "outputs": [],
   "source": [
    "word_freq = {}\n",
    "\n",
    "stop_words = list(STOP_WORDS)\n",
    "\n",
    "\n",
    "for word in doc:\n",
    "    if word.text.lower() not in stop_words:\n",
    "        if word.text.lower() not in punctuation:\n",
    "          if word.text not in word_freq.keys():\n",
    "            word_freq[word.text] = 1\n",
    "          else:\n",
    "            \n",
    "            word_freq[word.text] += 1\n",
    "            \n",
    "          "
   ]
  },
  {
   "cell_type": "code",
   "execution_count": 76,
   "metadata": {},
   "outputs": [
    {
     "data": {
      "text/plain": [
       "{'intricate': 2,\n",
       " 'dance': 1,\n",
       " 'ecosystems': 3,\n",
       " 'testament': 1,\n",
       " 'delicate': 1,\n",
       " 'balance': 2,\n",
       " 'nature': 1,\n",
       " 'forest': 1,\n",
       " 'ocean': 1,\n",
       " 'desert': 1,\n",
       " 'myriad': 1,\n",
       " 'species': 2,\n",
       " 'interact': 1,\n",
       " 'ways': 1,\n",
       " 'sustain': 1,\n",
       " 'support': 1,\n",
       " 'forming': 1,\n",
       " 'complex': 1,\n",
       " 'web': 1,\n",
       " 'life': 1,\n",
       " 'Predators': 1,\n",
       " 'prey': 1,\n",
       " 'plants': 1,\n",
       " 'pollinators': 1,\n",
       " 'countless': 2,\n",
       " 'relationships': 1,\n",
       " 'create': 1,\n",
       " 'environment': 1,\n",
       " 'organism': 1,\n",
       " 'role': 1,\n",
       " 'play': 1,\n",
       " 'interdependence': 1,\n",
       " 'ensures': 1,\n",
       " 'stability': 1,\n",
       " 'resilience': 1,\n",
       " 'allowing': 1,\n",
       " 'adapt': 1,\n",
       " 'changes': 1,\n",
       " 'recover': 1,\n",
       " 'disturbances': 1,\n",
       " 'human': 1,\n",
       " 'activities': 1,\n",
       " 'deforestation': 1,\n",
       " 'pollution': 1,\n",
       " 'climate': 2,\n",
       " 'change': 1,\n",
       " 'threaten': 1,\n",
       " 'highlighting': 1,\n",
       " 'urgent': 1,\n",
       " 'need': 1,\n",
       " 'conservation': 1,\n",
       " 'efforts': 1,\n",
       " 'protect': 1,\n",
       " 'natural': 1,\n",
       " 'world': 1,\n",
       " 'dynamics': 1,\n",
       " 'Understanding': 1,\n",
       " 'preserving': 1,\n",
       " 'crucial': 1,\n",
       " 'survival': 1,\n",
       " 'humanity': 1,\n",
       " 'relies': 1,\n",
       " 'services': 1,\n",
       " 'provide': 1,\n",
       " 'clean': 1,\n",
       " 'air': 1,\n",
       " 'water': 1,\n",
       " 'fertile': 1,\n",
       " 'soil': 1,\n",
       " 'regulation': 1}"
      ]
     },
     "execution_count": 76,
     "metadata": {},
     "output_type": "execute_result"
    }
   ],
   "source": [
    "word_freq"
   ]
  },
  {
   "cell_type": "code",
   "execution_count": 77,
   "metadata": {},
   "outputs": [
    {
     "data": {
      "text/plain": [
       "3"
      ]
     },
     "execution_count": 77,
     "metadata": {},
     "output_type": "execute_result"
    }
   ],
   "source": [
    "max_freq = max(word_freq.values())\n",
    "max_freq"
   ]
  },
  {
   "cell_type": "code",
   "execution_count": 78,
   "metadata": {},
   "outputs": [],
   "source": [
    "for word in word_freq.keys():\n",
    "    word_freq[word] = word_freq[word]/max_freq"
   ]
  },
  {
   "cell_type": "code",
   "execution_count": 79,
   "metadata": {},
   "outputs": [
    {
     "name": "stdout",
     "output_type": "stream",
     "text": [
      "{'intricate': 0.6666666666666666, 'dance': 0.3333333333333333, 'ecosystems': 1.0, 'testament': 0.3333333333333333, 'delicate': 0.3333333333333333, 'balance': 0.6666666666666666, 'nature': 0.3333333333333333, 'forest': 0.3333333333333333, 'ocean': 0.3333333333333333, 'desert': 0.3333333333333333, 'myriad': 0.3333333333333333, 'species': 0.6666666666666666, 'interact': 0.3333333333333333, 'ways': 0.3333333333333333, 'sustain': 0.3333333333333333, 'support': 0.3333333333333333, 'forming': 0.3333333333333333, 'complex': 0.3333333333333333, 'web': 0.3333333333333333, 'life': 0.3333333333333333, 'Predators': 0.3333333333333333, 'prey': 0.3333333333333333, 'plants': 0.3333333333333333, 'pollinators': 0.3333333333333333, 'countless': 0.6666666666666666, 'relationships': 0.3333333333333333, 'create': 0.3333333333333333, 'environment': 0.3333333333333333, 'organism': 0.3333333333333333, 'role': 0.3333333333333333, 'play': 0.3333333333333333, 'interdependence': 0.3333333333333333, 'ensures': 0.3333333333333333, 'stability': 0.3333333333333333, 'resilience': 0.3333333333333333, 'allowing': 0.3333333333333333, 'adapt': 0.3333333333333333, 'changes': 0.3333333333333333, 'recover': 0.3333333333333333, 'disturbances': 0.3333333333333333, 'human': 0.3333333333333333, 'activities': 0.3333333333333333, 'deforestation': 0.3333333333333333, 'pollution': 0.3333333333333333, 'climate': 0.6666666666666666, 'change': 0.3333333333333333, 'threaten': 0.3333333333333333, 'highlighting': 0.3333333333333333, 'urgent': 0.3333333333333333, 'need': 0.3333333333333333, 'conservation': 0.3333333333333333, 'efforts': 0.3333333333333333, 'protect': 0.3333333333333333, 'natural': 0.3333333333333333, 'world': 0.3333333333333333, 'dynamics': 0.3333333333333333, 'Understanding': 0.3333333333333333, 'preserving': 0.3333333333333333, 'crucial': 0.3333333333333333, 'survival': 0.3333333333333333, 'humanity': 0.3333333333333333, 'relies': 0.3333333333333333, 'services': 0.3333333333333333, 'provide': 0.3333333333333333, 'clean': 0.3333333333333333, 'air': 0.3333333333333333, 'water': 0.3333333333333333, 'fertile': 0.3333333333333333, 'soil': 0.3333333333333333, 'regulation': 0.3333333333333333}\n"
     ]
    }
   ],
   "source": [
    "print(word_freq)"
   ]
  },
  {
   "cell_type": "markdown",
   "metadata": {},
   "source": [
    "Sentence tokenization"
   ]
  },
  {
   "cell_type": "code",
   "execution_count": 80,
   "metadata": {},
   "outputs": [
    {
     "name": "stdout",
     "output_type": "stream",
     "text": [
      "[The intricate dance of ecosystems is a testament to the delicate balance of nature., Within every forest, ocean, and desert, myriad species interact in ways that sustain and support each other, forming a complex web of life., Predators and prey, plants and pollinators, and countless other relationships create an environment where each organism has a role to play., This interdependence ensures the stability and resilience of ecosystems, allowing them to adapt to changes and recover from disturbances., However, human activities such as deforestation, pollution, and climate change threaten this balance, highlighting the urgent need for conservation efforts to protect the natural world and its intricate dynamics., Understanding and preserving these ecosystems is crucial not only for the survival of countless species but also for the well-being of humanity, which relies on the services they provide, from clean air and water to fertile soil and climate regulation.]\n"
     ]
    }
   ],
   "source": [
    "sent_token = [sent for sent in doc.sents]\n",
    "print(sent_token)"
   ]
  },
  {
   "cell_type": "code",
   "execution_count": 81,
   "metadata": {},
   "outputs": [],
   "source": [
    "sent_score = {}"
   ]
  },
  {
   "cell_type": "code",
   "execution_count": 82,
   "metadata": {},
   "outputs": [],
   "source": [
    "for sent in sent_token:\n",
    "    for word in sent:\n",
    "        if word.text.lower() in word_freq.keys():\n",
    "            if sent not in sent_score.keys():\n",
    "                sent_score[sent] = word_freq[word.text.lower()]\n",
    "            else:\n",
    "                sent_score[sent] += word_freq[word.text.lower()]"
   ]
  },
  {
   "cell_type": "code",
   "execution_count": 83,
   "metadata": {},
   "outputs": [
    {
     "data": {
      "text/plain": [
       "{The intricate dance of ecosystems is a testament to the delicate balance of nature.: 3.666666666666667,\n",
       " Within every forest, ocean, and desert, myriad species interact in ways that sustain and support each other, forming a complex web of life.: 4.666666666666667,\n",
       " Predators and prey, plants and pollinators, and countless other relationships create an environment where each organism has a role to play.: 3.666666666666667,\n",
       " This interdependence ensures the stability and resilience of ecosystems, allowing them to adapt to changes and recover from disturbances.: 4.0,\n",
       " However, human activities such as deforestation, pollution, and climate change threaten this balance, highlighting the urgent need for conservation efforts to protect the natural world and its intricate dynamics.: 6.999999999999998,\n",
       " Understanding and preserving these ecosystems is crucial not only for the survival of countless species but also for the well-being of humanity, which relies on the services they provide, from clean air and water to fertile soil and climate regulation.: 7.333333333333331}"
      ]
     },
     "execution_count": 83,
     "metadata": {},
     "output_type": "execute_result"
    }
   ],
   "source": [
    "sent_score"
   ]
  },
  {
   "cell_type": "markdown",
   "metadata": {},
   "source": [
    "select 30% sentences with maximum score"
   ]
  },
  {
   "cell_type": "code",
   "execution_count": 84,
   "metadata": {},
   "outputs": [],
   "source": [
    "from heapq import nlargest"
   ]
  },
  {
   "cell_type": "code",
   "execution_count": 85,
   "metadata": {},
   "outputs": [],
   "source": [
    "summary_length = int(len(sent_token) * 0.3)"
   ]
  },
  {
   "cell_type": "markdown",
   "metadata": {},
   "source": [
    "Getting the summary"
   ]
  },
  {
   "cell_type": "code",
   "execution_count": 86,
   "metadata": {},
   "outputs": [],
   "source": [
    "summary_sentences = nlargest(summary_length, sent_score, key=sent_score.get)"
   ]
  },
  {
   "cell_type": "code",
   "execution_count": 87,
   "metadata": {},
   "outputs": [],
   "source": [
    "summary = ' '.join([sent.text for sent in summary_sentences])\n"
   ]
  },
  {
   "cell_type": "code",
   "execution_count": 88,
   "metadata": {},
   "outputs": [
    {
     "name": "stdout",
     "output_type": "stream",
     "text": [
      "Summary:\n",
      " Understanding and preserving these ecosystems is crucial not only for the survival of countless species but also for the well-being of humanity, which relies on the services they provide, from clean air and water to fertile soil and climate regulation.\n",
      "Original text length: 967\n",
      "Summary text length: 252\n"
     ]
    }
   ],
   "source": [
    "\n",
    "# Print the summary\n",
    "print(\"Summary:\\n\", summary)\n",
    "\n",
    "# Print the lengths of the original and summarized texts\n",
    "print(\"Original text length:\", len(text))\n",
    "print(\"Summary text length:\", len(summary))"
   ]
  },
  {
   "cell_type": "code",
   "execution_count": null,
   "metadata": {},
   "outputs": [],
   "source": []
  },
  {
   "cell_type": "code",
   "execution_count": null,
   "metadata": {},
   "outputs": [],
   "source": []
  }
 ],
 "metadata": {
  "kernelspec": {
   "display_name": "Python 3",
   "language": "python",
   "name": "python3"
  },
  "language_info": {
   "codemirror_mode": {
    "name": "ipython",
    "version": 3
   },
   "file_extension": ".py",
   "mimetype": "text/x-python",
   "name": "python",
   "nbconvert_exporter": "python",
   "pygments_lexer": "ipython3",
   "version": "3.11.4"
  }
 },
 "nbformat": 4,
 "nbformat_minor": 2
}
